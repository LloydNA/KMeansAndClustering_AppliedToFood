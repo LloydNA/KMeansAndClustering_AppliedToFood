{
 "cells": [
  {
   "cell_type": "code",
   "execution_count": 37,
   "metadata": {
    "ExecuteTime": {
     "end_time": "2023-07-10T02:33:30.771293Z",
     "start_time": "2023-07-10T02:33:30.766501Z"
    }
   },
   "outputs": [],
   "source": [
    "from IPython.display import IFrame"
   ]
  },
  {
   "cell_type": "markdown",
   "metadata": {
    "ExecuteTime": {
     "end_time": "2023-07-10T02:12:33.374650Z",
     "start_time": "2023-07-10T02:12:33.359212Z"
    }
   },
   "source": [
    "<h1>Infected Fruit Part Detection using K-Means\n",
    "Clustering Segmentation Technique</h1>\n",
    "\n",
    "<h3><a href = \"https://reunir.unir.net/handle/123456789/9723\">Click here to open the article</a></h3>\n"
   ]
  },
  {
   "cell_type": "markdown",
   "metadata": {},
   "source": [
    "<h2>Document</h2>"
   ]
  },
  {
   "cell_type": "markdown",
   "metadata": {},
   "source": [
    "IFrame('Papers/InfectedFruitPartDetectionUsingKMeans.pdf', width=600, height=800)"
   ]
  },
  {
   "cell_type": "code",
   "execution_count": 45,
   "metadata": {},
   "outputs": [
    {
     "ename": "SyntaxError",
     "evalue": "invalid syntax (3639931947.py, line 1)",
     "output_type": "error",
     "traceback": [
      "\u001b[0;36m  Cell \u001b[0;32mIn[45], line 1\u001b[0;36m\u001b[0m\n\u001b[0;31m    <h2>Summary</h2>\u001b[0m\n\u001b[0m    ^\u001b[0m\n\u001b[0;31mSyntaxError\u001b[0m\u001b[0;31m:\u001b[0m invalid syntax\n"
     ]
    }
   ],
   "source": [
    "<h2>Summary</h2>\n",
    "\n",
    "<p>This article discusses an approach for defect (rotten) segmentation of fruits based on color features using the K-means clustering algorithm. The traditional manual identification of defected fruit is time-consuming, so this new method offers a more efficient solution. The defect segmentation process consists of two stages: clustering pixels based on their color and spatial features, and then merging the clustered blocks into a specific number of regions. This two-step procedure improves computational efficiency by avoiding feature extraction for every pixel. Although color is not commonly used for defect segmentation, it provides a high discriminative power for different regions of the fruit image.</p>\n",
    "\n",
    "<p>The researchers conducted a case study using defected apples to evaluate the proposed approach. The experimental results demonstrated the effectiveness of the method in terms of precision and computational time. The authors used the K-means clustering technique in the L*a*b* color space, which contains a luminosity layer and two chromaticity layers. They classified colors using K-means clustering based on the Euclidean distance metric. The images were segmented into different clusters based on color, and the defected part of the fruit was identified by programmatically determining the index of each cluster containing the defected portion.</p>\n",
    "\n",
    "<p>The results showed that using 3 or 4 clusters yielded good segmentation results for the defected apples. The number of clusters required for defect detection depended on the size of the defected area. Larger defected areas required fewer clusters, while smaller defected areas required more clusters. The proposed approach was able to accurately segment the defected part of the fruit images, including the presence of stems or calyxes.</p>\n",
    "\n",
    "<p>In conclusion, the researchers presented an efficient defect segmentation approach for fruits based on color features and the K-means clustering algorithm. The experimental results demonstrated the effectiveness of the method in accurately identifying defected portions of the fruit images. The proposed approach has the potential to improve the quality and efficiency of defect segmentation in the agricultural industry.</p>"
   ]
  },
  {
   "cell_type": "markdown",
   "metadata": {},
   "source": [
    "<h1>Evaluation of image processing technique in identifying rice blast disease in field conditions based on KNN algorithm improvement by K-means</h1>\n",
    "<h3><a href=\"https://onlinelibrary.wiley.com/doi/full/10.1002/fsn3.1251\">Click here to open the article</a></h3>\n"
   ]
  },
  {
   "cell_type": "markdown",
   "metadata": {},
   "source": [
    "<h2>Document</h2>"
   ]
  },
  {
   "cell_type": "code",
   "execution_count": 43,
   "metadata": {},
   "outputs": [
    {
     "data": {
      "text/html": [
       "\n",
       "        <iframe\n",
       "            width=\"600\"\n",
       "            height=\"800\"\n",
       "            src=\"Papers/EvaluationOfRice.pdf\"\n",
       "            frameborder=\"0\"\n",
       "            allowfullscreen\n",
       "            \n",
       "        ></iframe>\n",
       "        "
      ],
      "text/plain": [
       "<IPython.lib.display.IFrame at 0x7f8e68227160>"
      ]
     },
     "execution_count": 43,
     "metadata": {},
     "output_type": "execute_result"
    }
   ],
   "source": [
    "IFrame('Papers/EvaluationOfRice.pdf', width=600, height=800)"
   ]
  },
  {
   "cell_type": "markdown",
   "metadata": {},
   "source": [
    "<h2>Summary</h2>\n",
    "\n",
    "<p>A study made by researchers in Iran wanted to develop a method to detect blast disease in rice plants using image processing techniques. Rice blast is a significant disease that affects rice yield. The researchers used color images obtained using a quadcopter equipped with a digital camera to detect disease spots on rice leaves. They applied image processing techniques, including the K-means algorithm and the Otsu method, to classify the images and identify disease spots.</p>\n",
    "\n",
    "<p>The algorithm achieved a sensitivity of 92% and specificity of 91.7% in determining the number of disease spots, and a sensitivity of 96% and specificity of 95.65% in determining the quality of disease spots. The overall accuracy of the algorithm was 94%. The results suggested that the developed method has potential for timely diagnosis of rice blast. Rice is an important crop globally, providing food for a large portion of the population and contributing to food security. However, rice farming is threatened by various pests and diseases, including blast.</p>\n",
    "\n",
    "<p>The use of machine vision and image processing techniques can be useful for rapid and accurate diagnosis of plant diseases. The researchers used the Lab color space for image processing, as it can describe all colors visible to the human eye. They converted RGB images to the Lab color space and performed clustering using the K-means algorithm to detect disease spots on rice leaves. The algorithm improved the K-nearest neighbors (KNN) algorithm by reducing computation time and considering significant attributes.</p>\n",
    "\n",
    "<p>In conclusion, this study found that the developed algorithm had a higher overall accuracy compared to similar studies, demonstrating the potential of machine vision for disease detection in field conditions. The timely diagnosis of rice blast can help prevent the spread of the disease and minimize the use of chemical pesticides, leading to increased production and reduced environmental impact. This study highlights the importance of using image processing techniques in precision agriculture to improve disease management and enhance crop productivity.</p>"
   ]
  },
  {
   "cell_type": "markdown",
   "metadata": {},
   "source": [
    "<h1>Food Quality Inspection and Grading Using Efficient Image Segmentation and Machine Learning-Based System</h1>\n",
    "<h2><a href = \"https://www.hindawi.com/journals/jfq/2022/5262294/\">Click here to open the article</a></h2>"
   ]
  },
  {
   "cell_type": "markdown",
   "metadata": {},
   "source": [
    "<h2>Document</h2>"
   ]
  },
  {
   "cell_type": "code",
   "execution_count": 44,
   "metadata": {},
   "outputs": [
    {
     "data": {
      "text/html": [
       "\n",
       "        <iframe\n",
       "            width=\"600\"\n",
       "            height=\"800\"\n",
       "            src=\"Papers/FoodQualityInspection.pdf\"\n",
       "            frameborder=\"0\"\n",
       "            allowfullscreen\n",
       "            \n",
       "        ></iframe>\n",
       "        "
      ],
      "text/plain": [
       "<IPython.lib.display.IFrame at 0x7f8e68227b50>"
      ]
     },
     "execution_count": 44,
     "metadata": {},
     "output_type": "execute_result"
    }
   ],
   "source": [
    "IFrame('Papers/FoodQualityInspection.pdf', width=600, height=800)"
   ]
  },
  {
   "cell_type": "markdown",
   "metadata": {},
   "source": [
    "<h2>Summary</h2>\n",
    "\n",
    "<p>This article discusses the use of computer vision and machine learning techniques to inspect and assure the quality of food, specifically fruits. The authors highlight the importance of quality assurance in ensuring customer satisfaction and emphasize that the application of machine vision technology has significantly improved the surface quality inspection of fruits and other foods.</p>\n",
    "\n",
    "<p>The methodology consists of five main stages: preprocessing the images to remove noise and improve quality, enhancing the images through histogram equalization, segmenting the images using the K-means clustering technique, and applying machine learning algorithms such as KNN, SVM, and C4.5 for fruit classification.\n",
    "This article also addresses the challenges in inspecting agricultural products due to their biological nature, which leads to variations in characteristics such as color, texture, and form. The authors mention that computer vision and image processing algorithms can help overcome these challenges by streamlining quality control processes and automating inspections.</p>\n",
    "\n",
    "<p>The study collected 250 images of apples and mangoes, including both good and damaged fruits. The proposed methodology was applied, and the accuracy, sensitivity, and specificity of the machine learning methods were evaluated. The results showed that the SVM algorithm achieved the highest accuracy in classifying the fruits.</p>\n",
    "\n",
    "<p>The authors discuss the potential applications of their research in the food industry, including the commercialization and grade categorization of fruits. They also mention the relevance of machine learning techniques in the development of automated fruit quality detection systems. The article concludes by providing the research data upon request and declaring no conflicts of interest.</p>\n",
    "\n",
    "<p>In conclusion, this article highlights the use of image segmentation and machine learning for food inspection and grading, specifically focusing on fruit quality assessment.</p>\n"
   ]
  },
  {
   "cell_type": "code",
   "execution_count": null,
   "metadata": {},
   "outputs": [],
   "source": []
  }
 ],
 "metadata": {
  "kernelspec": {
   "display_name": "Python 3 (ipykernel)",
   "language": "python",
   "name": "python3"
  },
  "language_info": {
   "codemirror_mode": {
    "name": "ipython",
    "version": 3
   },
   "file_extension": ".py",
   "mimetype": "text/x-python",
   "name": "python",
   "nbconvert_exporter": "python",
   "pygments_lexer": "ipython3",
   "version": "3.9.13"
  }
 },
 "nbformat": 4,
 "nbformat_minor": 1
}
