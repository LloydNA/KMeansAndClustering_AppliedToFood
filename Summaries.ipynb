{
 "cells": [
  {
   "cell_type": "code",
   "execution_count": 37,
   "metadata": {
    "ExecuteTime": {
     "end_time": "2023-07-10T02:33:30.771293Z",
     "start_time": "2023-07-10T02:33:30.766501Z"
    }
   },
   "outputs": [],
   "source": [
    "from IPython.display import IFrame"
   ]
  },
  {
   "cell_type": "markdown",
   "metadata": {
    "ExecuteTime": {
     "end_time": "2023-07-10T02:12:33.374650Z",
     "start_time": "2023-07-10T02:12:33.359212Z"
    }
   },
   "source": [
    "<h1>Infected Fruit Part Detection using K-Means\n",
    "Clustering Segmentation Technique</h1>\n",
    "\n",
    "<h3><a href = \"https://reunir.unir.net/handle/123456789/9723\">Click here to open the article</a></h3>\n"
   ]
  },
  {
   "cell_type": "markdown",
   "metadata": {},
   "source": [
    "<h2>Summary</h2>\n",
    "\n",
    "<p>This article discusses an approach for defect (rotten) segmentation of fruits based on color features using the K-means clustering algorithm. The traditional manual identification of defected fruit is time-consuming, so this new method offers a more efficient solution. The defect segmentation process consists of two stages: clustering pixels based on their color and spatial features, and then merging the clustered blocks into a specific number of regions. This two-step procedure improves computational efficiency by avoiding feature extraction for every pixel. Although color is not commonly used for defect segmentation, it provides a high discriminative power for different regions of the fruit image.</p>\n",
    "\n",
    "<p>The researchers conducted a case study using defected apples to evaluate the proposed approach. The experimental results demonstrated the effectiveness of the method in terms of precision and computational time. The authors used the K-means clustering technique in the L*a*b* color space, which contains a luminosity layer and two chromaticity layers. They classified colors using K-means clustering based on the Euclidean distance metric. The images were segmented into different clusters based on color, and the defected part of the fruit was identified by programmatically determining the index of each cluster containing the defected portion.</p>\n",
    "\n",
    "<p>The results showed that using 3 or 4 clusters yielded good segmentation results for the defected apples. The number of clusters required for defect detection depended on the size of the defected area. Larger defected areas required fewer clusters, while smaller defected areas required more clusters. The proposed approach was able to accurately segment the defected part of the fruit images, including the presence of stems or calyxes.</p>\n",
    "\n",
    "<p>In conclusion, the researchers presented an efficient defect segmentation approach for fruits based on color features and the K-means clustering algorithm. The experimental results demonstrated the effectiveness of the method in accurately identifying defected portions of the fruit images. The proposed approach has the potential to improve the quality and efficiency of defect segmentation in the agricultural industry.</p>\n"
   ]
  },
  {
   "cell_type": "markdown",
   "metadata": {},
   "source": [
    "<h2>Document</h2>"
   ]
  },
  {
   "cell_type": "code",
   "execution_count": 40,
   "metadata": {},
   "outputs": [
    {
     "data": {
      "text/html": [
       "\n",
       "        <iframe\n",
       "            width=\"600\"\n",
       "            height=\"800\"\n",
       "            src=\"Papers/InfectedFruitPartDetectionUsingKMeans.pdf\"\n",
       "            frameborder=\"0\"\n",
       "            allowfullscreen\n",
       "            \n",
       "        ></iframe>\n",
       "        "
      ],
      "text/plain": [
       "<IPython.lib.display.IFrame at 0x7f8e68203f40>"
      ]
     },
     "execution_count": 40,
     "metadata": {},
     "output_type": "execute_result"
    }
   ],
   "source": [
    "IFrame('Papers/InfectedFruitPartDetectionUsingKMeans.pdf', width=600, height=800)"
   ]
  },
  {
   "cell_type": "code",
   "execution_count": null,
   "metadata": {},
   "outputs": [],
   "source": []
  }
 ],
 "metadata": {
  "kernelspec": {
   "display_name": "Python 3 (ipykernel)",
   "language": "python",
   "name": "python3"
  },
  "language_info": {
   "codemirror_mode": {
    "name": "ipython",
    "version": 3
   },
   "file_extension": ".py",
   "mimetype": "text/x-python",
   "name": "python",
   "nbconvert_exporter": "python",
   "pygments_lexer": "ipython3",
   "version": "3.9.13"
  }
 },
 "nbformat": 4,
 "nbformat_minor": 1
}
